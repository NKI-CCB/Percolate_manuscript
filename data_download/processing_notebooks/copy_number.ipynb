{
 "cells": [
  {
   "cell_type": "code",
   "execution_count": 1,
   "metadata": {},
   "outputs": [],
   "source": [
    "import os, sys\n",
    "import pandas as pd\n",
    "import numpy as np\n",
    "import matplotlib.pyplot as plt\n",
    "import seaborn as sns\n",
    "import re\n",
    "from functools import reduce\n",
    "from intervaltree import Interval, IntervalTree\n",
    "from dependencies.GDSC_methods import filter_protein_coding, filter_mini_cancer, is_probe_in_tree, create_tree"
   ]
  },
  {
   "cell_type": "code",
   "execution_count": 4,
   "metadata": {},
   "outputs": [],
   "source": [
    "raw_folder = '/DATA/s.mourragui/data/2020_10_GDSC_data/raw/'\n",
    "output_folder = '/DATA/s.mourragui/data/2020_10_GDSC_data'"
   ]
  },
  {
   "cell_type": "code",
   "execution_count": 5,
   "metadata": {},
   "outputs": [],
   "source": [
    "cna_file = 'gene_cnv_2018-11-13_1545.csv'\n",
    "cna_df = pd.read_csv(raw_folder + cna_file)"
   ]
  },
  {
   "cell_type": "code",
   "execution_count": 8,
   "metadata": {},
   "outputs": [
    {
     "data": {
      "text/plain": [
       "<AxesSubplot:xlabel='gistic_score', ylabel='abs_copy_number'>"
      ]
     },
     "execution_count": 8,
     "metadata": {},
     "output_type": "execute_result"
    },
    {
     "data": {
      "image/png": "[encoded data removed]",
      "text/plain": [
       "<Figure size 432x288 with 1 Axes>"
      ]
     },
     "metadata": {
      "needs_background": "light"
     },
     "output_type": "display_data"
    }
   ],
   "source": [
    "sns.boxplot(data=cna_df, x='gistic_score', y='abs_copy_number')"
   ]
  }
 ],
 "metadata": {
  "kernelspec": {
   "display_name": "Python (Trickle Down)",
   "language": "python",
   "name": "trickle_down"
  },
  "language_info": {
   "codemirror_mode": {
    "name": "ipython",
    "version": 3
   },
   "file_extension": ".py",
   "mimetype": "text/x-python",
   "name": "python",
   "nbconvert_exporter": "python",
   "pygments_lexer": "ipython3",
   "version": "3.7.8"
  }
 },
 "nbformat": 4,
 "nbformat_minor": 4
}
