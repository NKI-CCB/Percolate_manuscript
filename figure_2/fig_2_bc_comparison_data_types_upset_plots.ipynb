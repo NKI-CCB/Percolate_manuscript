{
 "cells": [
  {
   "cell_type": "markdown",
   "id": "6ba1707e",
   "metadata": {},
   "source": [
    "# Compare data-types by pairs and summarize by upset plots"
   ]
  },
  {
   "cell_type": "code",
   "execution_count": 3,
   "id": "64263eb2",
   "metadata": {},
   "outputs": [],
   "source": [
    "import os, sys, scipy, torch, datetime, upsetplot\n",
    "import numpy as np\n",
    "from pickle import load, dump\n",
    "\n",
    "from percolate.negative_binomial_routines import compute_dispersion\n",
    "from percolate import GLMPCA, GLMJIVE\n",
    "from percolate.exponential_family import *\n",
    "from percolate.exponential_family import natural_parameter_log_likelihood, log_likelihood\n",
    "\n",
    "\n",
    "sys.path.insert(0, '../read_data')\n",
    "from read_GDSC_data import read_GDSC_data\n",
    "from read_GDSC_response import read_GDSC_response\n",
    "import library_size_normalization\n",
    "\n",
    "\n",
    "# import pandas as pd\n",
    "# import matplotlib.pyplot as plt\n",
    "# from pickle import load, dump\n",
    "# import seaborn as sns\n",
    "# from copy import deepcopy\n",
    "# import torch, datetime\n",
    "# from sklearn.preprocessing import StandardScaler\n",
    "# from sklearn.pipeline import Pipeline\n",
    "# from sklearn.linear_model import ElasticNet, Ridge\n",
    "# from sklearn.model_selection import GridSearchCV, KFold\n",
    "# from functools import reduce\n",
    "# import upsetplot\n"
   ]
  },
  {
   "cell_type": "markdown",
   "id": "b3eb2f2b",
   "metadata": {},
   "source": [
    "## Import data"
   ]
  },
  {
   "cell_type": "code",
   "execution_count": 4,
   "id": "7f6d72e4",
   "metadata": {},
   "outputs": [],
   "source": [
    "data_types = ['copy_number', 'count', 'methylation', 'mutations']\n",
    "tissues = ['all']\n",
    "projects = None\n",
    "filtering = 'mini_cancer'\n",
    "folder = '../data/'"
   ]
  },
  {
   "cell_type": "code",
   "execution_count": 5,
   "id": "e9570390",
   "metadata": {},
   "outputs": [
    {
     "data": {
      "text/plain": [
       "['mini_cancer_lookup_genes.csv',\n",
       " 'model_list_20191104.csv.1',\n",
       " '.DS_Store',\n",
       " 'response',\n",
       " 'model_list_20191104.csv',\n",
       " 'mini_cancer_genes.csv',\n",
       " 'raw']"
      ]
     },
     "execution_count": 5,
     "metadata": {},
     "output_type": "execute_result"
    }
   ],
   "source": [
    "os.listdir(folder)"
   ]
  },
  {
   "cell_type": "code",
   "execution_count": null,
   "id": "93dc2188",
   "metadata": {},
   "outputs": [],
   "source": []
  }
 ],
 "metadata": {
  "kernelspec": {
   "display_name": "percolate_manuscript",
   "language": "python",
   "name": "percolate_manuscript"
  },
  "language_info": {
   "codemirror_mode": {
    "name": "ipython",
    "version": 3
   },
   "file_extension": ".py",
   "mimetype": "text/x-python",
   "name": "python",
   "nbconvert_exporter": "python",
   "pygments_lexer": "ipython3",
   "version": "3.9.13"
  }
 },
 "nbformat": 4,
 "nbformat_minor": 5
}
