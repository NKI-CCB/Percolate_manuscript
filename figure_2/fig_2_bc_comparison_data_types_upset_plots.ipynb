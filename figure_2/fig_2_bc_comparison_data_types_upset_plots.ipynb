{
 "cells": [
  {
   "cell_type": "markdown",
   "id": "6ba1707e",
   "metadata": {},
   "source": [
    "# Compare data-types by pairs and summarize by upset plots"
   ]
  },
  {
   "cell_type": "code",
   "execution_count": 1,
   "id": "64263eb2",
   "metadata": {},
   "outputs": [],
   "source": [
    "import os, sys, scipy, torch, datetime, upsetplot\n",
    "import numpy as np\n",
    "from pickle import load, dump\n",
    "\n",
    "from percolate.negative_binomial_routines import compute_dispersion\n",
    "from percolate import GLMPCA, GLMJIVE\n",
    "from percolate.exponential_family import *\n",
    "from percolate.exponential_family import natural_parameter_log_likelihood, log_likelihood\n",
    "\n",
    "\n",
    "sys.path.insert(0, '../read_data')\n",
    "from read_GDSC_data import read_GDSC_data\n",
    "from read_GDSC_response import read_GDSC_response\n",
    "import library_size_normalization\n",
    "\n",
    "\n",
    "# import pandas as pd\n",
    "# import matplotlib.pyplot as plt\n",
    "# from pickle import load, dump\n",
    "# import seaborn as sns\n",
    "# from copy import deepcopy\n",
    "# import torch, datetime\n",
    "# from sklearn.preprocessing import StandardScaler\n",
    "# from sklearn.pipeline import Pipeline\n",
    "# from sklearn.linear_model import ElasticNet, Ridge\n",
    "# from sklearn.model_selection import GridSearchCV, KFold\n",
    "# from functools import reduce\n",
    "# import upsetplot\n"
   ]
  },
  {
   "cell_type": "markdown",
   "id": "9fcf16fd",
   "metadata": {},
   "source": [
    "## Import data"
   ]
  },
  {
   "cell_type": "code",
   "execution_count": 2,
   "id": "d40e17ac",
   "metadata": {},
   "outputs": [],
   "source": [
    "data_types = ['copy_number', 'count', 'methylation', 'mutations']\n",
    "tissues = ['all']\n",
    "projects = None\n",
    "filtering = 'mini_cancer'\n",
    "folder = '../data/'"
   ]
  },
  {
   "cell_type": "code",
   "execution_count": 3,
   "id": "eab88dc7",
   "metadata": {},
   "outputs": [],
   "source": [
    "data_df = read_GDSC_data(\n",
    "    data_types=data_types,\n",
    "    tissues=tissues,\n",
    "    projects=projects,\n",
    "    filtering=None,\n",
    "    folder='%s/%s/'%(folder, filtering)\n",
    ")\n",
    "\n",
    "features = {d: data_df[d].columns for d in data_df}\n",
    "samples = {d: data_df[d].index for d in data_df}\n",
    "data_df = {d: data_df[d].values for d in data_df}"
   ]
  },
  {
   "cell_type": "code",
   "execution_count": 6,
   "id": "150ea57e",
   "metadata": {},
   "outputs": [],
   "source": [
    "for dt in data_df:\n",
    "    if 'count' in dt:\n",
    "        data_df[dt] = library_size_normalization.TMM_normalization(\n",
    "            data_df[dt].astype(float)\n",
    "        )\n",
    "        data_df[dt] = np.array(data_df[dt])\n",
    "        \n",
    "# Tensor transformation\n",
    "data_df = {d:torch.Tensor(data_df[d]) for d in data_df}"
   ]
  },
  {
   "cell_type": "markdown",
   "id": "f319257d",
   "metadata": {},
   "source": [
    "## Load pre-trained models"
   ]
  },
  {
   "cell_type": "code",
   "execution_count": null,
   "id": "d4f2840d",
   "metadata": {},
   "outputs": [],
   "source": [
    "os.listdir(folder)"
   ]
  },
  {
   "cell_type": "code",
   "execution_count": null,
   "id": "785766c3",
   "metadata": {},
   "outputs": [],
   "source": []
  }
 ],
 "metadata": {
  "kernelspec": {
   "display_name": "percolate_manuscript",
   "language": "python",
   "name": "percolate_manuscript"
  },
  "language_info": {
   "codemirror_mode": {
    "name": "ipython",
    "version": 3
   },
   "file_extension": ".py",
   "mimetype": "text/x-python",
   "name": "python",
   "nbconvert_exporter": "python",
   "pygments_lexer": "ipython3",
   "version": "3.9.13"
  }
 },
 "nbformat": 4,
 "nbformat_minor": 5
}
